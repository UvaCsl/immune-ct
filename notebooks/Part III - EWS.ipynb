{
 "cells": [
  {
   "cell_type": "markdown",
   "id": "operating-joyce",
   "metadata": {
    "toc": true
   },
   "source": [
    "<h1>Table of Contents<span class=\"tocSkip\"></span></h1>\n",
    "<div class=\"toc\"><ul class=\"toc-item\"><li><span><a href=\"#Early-Warning-Signals\" data-toc-modified-id=\"Early-Warning-Signals-1\"><span class=\"toc-item-num\">1&nbsp;&nbsp;</span>Early Warning Signals</a></span><ul class=\"toc-item\"><li><span><a href=\"#Import-some-libraries\" data-toc-modified-id=\"Import-some-libraries-1.1\"><span class=\"toc-item-num\">1.1&nbsp;&nbsp;</span>Import some libraries</a></span></li><li><span><a href=\"#Early-Warning-Signals\" data-toc-modified-id=\"Early-Warning-Signals-1.2\"><span class=\"toc-item-num\">1.2&nbsp;&nbsp;</span>Early Warning Signals</a></span><ul class=\"toc-item\"><li><span><a href=\"#Metric-based\" data-toc-modified-id=\"Metric-based-1.2.1\"><span class=\"toc-item-num\">1.2.1&nbsp;&nbsp;</span>Metric-based</a></span><ul class=\"toc-item\"><li><span><a href=\"#Standard-Deviation\" data-toc-modified-id=\"Standard-Deviation-1.2.1.1\"><span class=\"toc-item-num\">1.2.1.1&nbsp;&nbsp;</span>Standard Deviation</a></span></li><li><span><a href=\"#Skewness\" data-toc-modified-id=\"Skewness-1.2.1.2\"><span class=\"toc-item-num\">1.2.1.2&nbsp;&nbsp;</span>Skewness</a></span></li><li><span><a href=\"#Kurtosis\" data-toc-modified-id=\"Kurtosis-1.2.1.3\"><span class=\"toc-item-num\">1.2.1.3&nbsp;&nbsp;</span>Kurtosis</a></span></li><li><span><a href=\"#Autocorrelation-at-lag-1\" data-toc-modified-id=\"Autocorrelation-at-lag-1-1.2.1.4\"><span class=\"toc-item-num\">1.2.1.4&nbsp;&nbsp;</span>Autocorrelation at lag 1</a></span></li><li><span><a href=\"#Conditional-heteroskedasticity\" data-toc-modified-id=\"Conditional-heteroskedasticity-1.2.1.5\"><span class=\"toc-item-num\">1.2.1.5&nbsp;&nbsp;</span>Conditional heteroskedasticity</a></span></li></ul></li><li><span><a href=\"#Model-based\" data-toc-modified-id=\"Model-based-1.2.2\"><span class=\"toc-item-num\">1.2.2&nbsp;&nbsp;</span>Model-based</a></span><ul class=\"toc-item\"><li><span><a href=\"#Time-varying-AR\" data-toc-modified-id=\"Time-varying-AR-1.2.2.1\"><span class=\"toc-item-num\">1.2.2.1&nbsp;&nbsp;</span>Time-varying AR</a></span></li></ul></li></ul></li></ul></li></ul></div>"
   ]
  },
  {
   "cell_type": "markdown",
   "id": "intermediate-facial",
   "metadata": {},
   "source": [
    "# Early Warning Signals\n",
    "\n",
    "Detecting critical transitions in timeseries\n",
    "\n",
    "Author: Alva Presbitero"
   ]
  },
  {
   "cell_type": "markdown",
   "id": "timely-uganda",
   "metadata": {},
   "source": [
    "## Import some libraries"
   ]
  },
  {
   "cell_type": "code",
   "execution_count": null,
   "id": "serial-dubai",
   "metadata": {
    "ExecuteTime": {
     "end_time": "2021-11-22T07:18:35.605905Z",
     "start_time": "2021-11-22T07:18:34.391239Z"
    }
   },
   "outputs": [],
   "source": [
    "import sys\n",
    "sys.path.append('../')\n",
    "\n",
    "import pandas as pd\n",
    "import numpy as np\n",
    "import os\n",
    "import pickle\n",
    "import matplotlib.pyplot as plt\n",
    "\n",
    "import statsmodels.api as sm\n",
    "import statsmodels.formula.api as smf\n",
    "\n",
    "from statsmodels.stats.diagnostic import het_white\n",
    "from statsmodels.compat import lzip\n",
    "from patsy import dmatrices\n",
    "\n",
    "from scipy.stats import skew, kurtosis\n",
    "from itertools import product\n",
    "\n",
    "from utils import *"
   ]
  },
  {
   "cell_type": "code",
   "execution_count": null,
   "id": "scheduled-dayton",
   "metadata": {
    "ExecuteTime": {
     "end_time": "2021-07-21T01:32:11.515407Z",
     "start_time": "2021-07-21T01:32:11.189496Z"
    }
   },
   "outputs": [],
   "source": [
    "noise = []\n",
    "noise_type_list = ['sigmoid', 'gaussian', 'linear']\n",
    "sigma_type_list = ['constant', 'increasing']\n",
    "\n",
    "output = list(product(noise_type_list, sigma_type_list))\n",
    "\n",
    "for index, (noise_type, sigma_type) in enumerate(output):\n",
    "    print ('noise_type :', index, noise_type, sigma_type)\n",
    "    pickle_dir = f'result/pickle/noise/{noise_type}/{sigma_type}/'\n",
    "    pickle_file = noise_type + '_' + sigma_type + '.pickle'\n",
    "    with open(pickle_dir + pickle_file, 'rb') as f:\n",
    "        noise.append(pickle.load(f))\n",
    "#         print (noise_list[index])"
   ]
  },
  {
   "cell_type": "code",
   "execution_count": null,
   "id": "polished-offering",
   "metadata": {
    "ExecuteTime": {
     "end_time": "2021-07-21T01:32:11.523453Z",
     "start_time": "2021-07-21T01:32:11.519253Z"
    }
   },
   "outputs": [],
   "source": [
    "# noise_1, noise_2, noise_3, noise_4 = noise_list[0], noise_list[1], noise_list[2], noise_list[3]\n",
    "noise_names = ['Linear (constant sigma)', 'Linear (increasing sigma)',\n",
    "               'Sigmoid (constant sigma)', 'Sigmoid (increasing sigma)', \n",
    "               'Gaussian (constant sigma)', 'Gaussian (increasing sigma)']"
   ]
  },
  {
   "cell_type": "markdown",
   "id": "applicable-aluminum",
   "metadata": {},
   "source": [
    "## Early Warning Signals\n",
    "\n",
    "<img src='images/EWS' width=\"400\" height=\"400\">\n"
   ]
  },
  {
   "cell_type": "markdown",
   "id": "rough-horizon",
   "metadata": {},
   "source": [
    "### Metric-based\n",
    "#### Standard Deviation"
   ]
  },
  {
   "cell_type": "code",
   "execution_count": null,
   "id": "ff17de44",
   "metadata": {
    "ExecuteTime": {
     "end_time": "2021-07-21T01:32:14.458189Z",
     "start_time": "2021-07-21T01:32:11.754503Z"
    }
   },
   "outputs": [],
   "source": [
    "n=6\n",
    "for choice in range(n):\n",
    "    plot(data=noise[choice], \n",
    "         immune='CH', \n",
    "         noise_name = noise_names[choice], \n",
    "         immune_name = 'Pro-inflammatory Cytokines', \n",
    "         method_name = 'STD', \n",
    "         method = do_ews_std,\n",
    "         win_size = len(noise[choice])/2)"
   ]
  },
  {
   "cell_type": "code",
   "execution_count": null,
   "id": "587219a7",
   "metadata": {
    "ExecuteTime": {
     "end_time": "2021-07-21T01:32:17.252386Z",
     "start_time": "2021-07-21T01:32:14.460160Z"
    }
   },
   "outputs": [],
   "source": [
    "n=6\n",
    "for choice in range(n):\n",
    "    plot(data=noise[choice], \n",
    "         immune='AP_Eblood', \n",
    "         noise_name = noise_names[choice], \n",
    "         immune_name = 'Alkaline Phosphatase', \n",
    "         method_name = 'STD', \n",
    "         method = do_ews_std,\n",
    "         win_size = len(noise[choice])/2)"
   ]
  },
  {
   "cell_type": "markdown",
   "id": "purple-jewelry",
   "metadata": {},
   "source": [
    "#### Skewness\n"
   ]
  },
  {
   "cell_type": "code",
   "execution_count": null,
   "id": "228a471b",
   "metadata": {
    "ExecuteTime": {
     "end_time": "2021-07-21T01:32:41.421740Z",
     "start_time": "2021-07-21T01:32:17.254533Z"
    }
   },
   "outputs": [],
   "source": [
    "n=6\n",
    "for choice in range(n):\n",
    "    plot(data=noise[choice], \n",
    "         immune='CH', \n",
    "         noise_name = noise_names[choice], \n",
    "         immune_name = 'Pro-inflammatory Cytokines', \n",
    "         method_name = 'Skewness', \n",
    "         method = do_ews_skew,\n",
    "         win_size = len(noise[choice])/2)"
   ]
  },
  {
   "cell_type": "code",
   "execution_count": null,
   "id": "a29dd69c",
   "metadata": {
    "ExecuteTime": {
     "end_time": "2021-07-21T01:33:06.623053Z",
     "start_time": "2021-07-21T01:32:41.423826Z"
    }
   },
   "outputs": [],
   "source": [
    "n=6\n",
    "for choice in range(n):\n",
    "    plot(data=noise[choice], \n",
    "         immune='AP_Eblood', \n",
    "         noise_name = noise_names[choice], \n",
    "         immune_name = 'Alkaline Phosphatase', \n",
    "         method_name = 'Skewness', \n",
    "         method = do_ews_skew,\n",
    "         win_size = len(noise[choice])/2)"
   ]
  },
  {
   "cell_type": "markdown",
   "id": "12657d59",
   "metadata": {
    "ExecuteTime": {
     "end_time": "2021-07-10T05:40:16.174706Z",
     "start_time": "2021-07-10T05:40:16.023681Z"
    }
   },
   "source": [
    "#### Kurtosis"
   ]
  },
  {
   "cell_type": "code",
   "execution_count": null,
   "id": "bf9ff21a",
   "metadata": {
    "ExecuteTime": {
     "end_time": "2021-07-21T01:33:26.835115Z",
     "start_time": "2021-07-21T01:33:06.625133Z"
    },
    "scrolled": true
   },
   "outputs": [],
   "source": [
    "n=6\n",
    "for choice in range(n):\n",
    "    plot(data=noise[choice], \n",
    "         immune='CH', \n",
    "         noise_name = noise_names[choice], \n",
    "         immune_name = 'Pro-inflammatory Cytokines', \n",
    "         method_name = 'Kurtosis', \n",
    "         method = do_ews_kurt,\n",
    "         win_size = len(noise[choice])/2)"
   ]
  },
  {
   "cell_type": "code",
   "execution_count": null,
   "id": "427e363c",
   "metadata": {
    "ExecuteTime": {
     "end_time": "2021-07-21T01:33:46.918215Z",
     "start_time": "2021-07-21T01:33:26.837147Z"
    }
   },
   "outputs": [],
   "source": [
    "n=6\n",
    "for choice in range(n):\n",
    "    plot(data=noise[choice], \n",
    "         immune='AP_Eblood', \n",
    "         noise_name = noise_names[choice], \n",
    "         immune_name = 'Alkaline Phosphatase', \n",
    "         method_name = 'Kurtosis', \n",
    "         method = do_ews_kurt,\n",
    "         win_size = len(noise[choice])/2)"
   ]
  },
  {
   "cell_type": "markdown",
   "id": "088c6073",
   "metadata": {},
   "source": [
    "#### Autocorrelation at lag 1"
   ]
  },
  {
   "cell_type": "code",
   "execution_count": null,
   "id": "88b73006",
   "metadata": {
    "ExecuteTime": {
     "end_time": "2021-07-21T01:40:16.012981Z",
     "start_time": "2021-07-21T01:33:46.919898Z"
    }
   },
   "outputs": [],
   "source": [
    "n=6\n",
    "for choice in range(n):\n",
    "    plot(data=noise[choice], \n",
    "         immune='CH', \n",
    "         noise_name = noise_names[choice], \n",
    "         immune_name = 'Pro-inflammatory Cytokines', \n",
    "         method_name = 'Auto-correlation (lag=1)', \n",
    "         method = do_ews_auto,\n",
    "         win_size = len(noise[choice])/2)"
   ]
  },
  {
   "cell_type": "code",
   "execution_count": null,
   "id": "2837a7a1",
   "metadata": {
    "ExecuteTime": {
     "end_time": "2021-07-21T01:47:07.642418Z",
     "start_time": "2021-07-21T01:40:16.015693Z"
    }
   },
   "outputs": [],
   "source": [
    "n=6\n",
    "for choice in range(n):\n",
    "    plot(data=noise[choice], \n",
    "         immune='AP_Eblood', \n",
    "         noise_name = noise_names[choice], \n",
    "         immune_name = 'Alkaline Phosphatase', \n",
    "         method_name = 'Auto-correlation (lag=1)', \n",
    "         method = do_ews_auto,\n",
    "         win_size = len(noise[choice])/2)"
   ]
  },
  {
   "cell_type": "markdown",
   "id": "cea6e941",
   "metadata": {},
   "source": [
    "#### Conditional heteroskedasticity\n",
    "Conditional heteroskedasticity means that variance at one time step has a positive relationship with variance at one or more previous time steps. This implies that periods of high variability will tend to follow periods of high variability and periods of low variability will tend to follow periods of low variability\n",
    "\n",
    "Useful reference: https://towardsdatascience.com/heteroscedasticity-is-nothing-to-be-afraid-of-730dd3f7ca1f"
   ]
  },
  {
   "cell_type": "code",
   "execution_count": null,
   "id": "848362c5",
   "metadata": {
    "ExecuteTime": {
     "end_time": "2021-07-21T02:10:34.180478Z",
     "start_time": "2021-07-21T01:47:07.644763Z"
    },
    "scrolled": false
   },
   "outputs": [],
   "source": [
    "n=6\n",
    "for choice in range(n):\n",
    "    plot(data=noise[choice], \n",
    "         immune='CH', \n",
    "         noise_name = noise_names[choice], \n",
    "         immune_name = 'Pro-inflammatory Cytokines', \n",
    "         method_name = 'Cond. Heteroskedasticity', \n",
    "         method = do_ews_ch,\n",
    "         win_size = len(noise[choice])/2)"
   ]
  },
  {
   "cell_type": "code",
   "execution_count": null,
   "id": "b3a6a471",
   "metadata": {
    "ExecuteTime": {
     "end_time": "2021-07-21T02:30:38.722985Z",
     "start_time": "2021-07-21T02:10:34.182342Z"
    }
   },
   "outputs": [],
   "source": [
    "n=6\n",
    "for choice in range(n):\n",
    "    plot(data=noise[choice], \n",
    "         immune='AP_Eblood', \n",
    "         noise_name = noise_names[choice], \n",
    "         immune_name = 'Alkaline Phosphatase', \n",
    "         method_name = 'Cond. Heteroskedasticity', \n",
    "         method = do_ews_ch,\n",
    "         win_size = len(noise[choice])/2)"
   ]
  },
  {
   "cell_type": "markdown",
   "id": "e50f9444",
   "metadata": {},
   "source": [
    "### Model-based"
   ]
  },
  {
   "cell_type": "markdown",
   "id": "4d9b10f5",
   "metadata": {},
   "source": [
    "#### Time-varying AR\n",
    "Time-varying AR(p) [autoregressive] models provide a model-based approach for estimating time-dependent return rates in time series, which can act as an early warning of a critical transition."
   ]
  },
  {
   "cell_type": "code",
   "execution_count": null,
   "id": "7446cf8d",
   "metadata": {
    "ExecuteTime": {
     "end_time": "2021-07-21T02:43:33.019657Z",
     "start_time": "2021-07-21T02:30:38.725099Z"
    }
   },
   "outputs": [],
   "source": [
    "n=6\n",
    "for choice in range(n):\n",
    "    plot(data=noise[choice], \n",
    "         immune='CH', \n",
    "         noise_name = noise_names[choice], \n",
    "         immune_name = 'Pro-inflammatory Cytokines', \n",
    "         method_name = 'AR(1)', \n",
    "         method = do_ews_ar,\n",
    "         win_size = len(noise[choice])/2,\n",
    "         log = True)"
   ]
  },
  {
   "cell_type": "code",
   "execution_count": null,
   "id": "c31a71f0",
   "metadata": {
    "ExecuteTime": {
     "end_time": "2021-07-21T02:56:37.074176Z",
     "start_time": "2021-07-21T02:43:33.021464Z"
    }
   },
   "outputs": [],
   "source": [
    "n=6\n",
    "for choice in range(n):\n",
    "    plot(data=noise[choice], \n",
    "         immune='AP_Eblood', \n",
    "         noise_name = noise_names[choice], \n",
    "         immune_name = 'Alkaline Phosphatase', \n",
    "         method_name = 'AR(1)', \n",
    "         method = do_ews_ar,\n",
    "         win_size = len(noise[choice])/2,\n",
    "         log = True)"
   ]
  },
  {
   "cell_type": "code",
   "execution_count": null,
   "id": "a54c5c84",
   "metadata": {},
   "outputs": [],
   "source": []
  }
 ],
 "metadata": {
  "kernelspec": {
   "display_name": "Python [conda env:root] *",
   "language": "python",
   "name": "conda-root-py"
  },
  "language_info": {
   "codemirror_mode": {
    "name": "ipython",
    "version": 3
   },
   "file_extension": ".py",
   "mimetype": "text/x-python",
   "name": "python",
   "nbconvert_exporter": "python",
   "pygments_lexer": "ipython3",
   "version": "3.9.6"
  },
  "toc": {
   "base_numbering": 1,
   "nav_menu": {},
   "number_sections": true,
   "sideBar": true,
   "skip_h1_title": false,
   "title_cell": "Table of Contents",
   "title_sidebar": "Contents",
   "toc_cell": true,
   "toc_position": {
    "height": "573.6px",
    "left": "263px",
    "top": "110px",
    "width": "303.818px"
   },
   "toc_section_display": true,
   "toc_window_display": true
  }
 },
 "nbformat": 4,
 "nbformat_minor": 5
}
