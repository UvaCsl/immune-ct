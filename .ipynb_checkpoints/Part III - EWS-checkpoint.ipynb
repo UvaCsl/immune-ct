{
 "cells": [
  {
   "cell_type": "markdown",
   "id": "operating-joyce",
   "metadata": {
    "toc": true
   },
   "source": [
    "<h1>Table of Contents<span class=\"tocSkip\"></span></h1>\n",
    "<div class=\"toc\"><ul class=\"toc-item\"><li><span><a href=\"#Early-Warning-Signals\" data-toc-modified-id=\"Early-Warning-Signals-1\"><span class=\"toc-item-num\">1&nbsp;&nbsp;</span>Early Warning Signals</a></span><ul class=\"toc-item\"><li><span><a href=\"#Import-some-libraries\" data-toc-modified-id=\"Import-some-libraries-1.1\"><span class=\"toc-item-num\">1.1&nbsp;&nbsp;</span>Import some libraries</a></span></li><li><span><a href=\"#Early-Warning-Signals\" data-toc-modified-id=\"Early-Warning-Signals-1.2\"><span class=\"toc-item-num\">1.2&nbsp;&nbsp;</span>Early Warning Signals</a></span><ul class=\"toc-item\"><li><span><a href=\"#Metric-based\" data-toc-modified-id=\"Metric-based-1.2.1\"><span class=\"toc-item-num\">1.2.1&nbsp;&nbsp;</span>Metric-based</a></span><ul class=\"toc-item\"><li><span><a href=\"#Standard-Deviation\" data-toc-modified-id=\"Standard-Deviation-1.2.1.1\"><span class=\"toc-item-num\">1.2.1.1&nbsp;&nbsp;</span>Standard Deviation</a></span><ul class=\"toc-item\"><li><span><a href=\"#Standard-Deviation\" data-toc-modified-id=\"Standard-Deviation-1.2.1.1.1\"><span class=\"toc-item-num\">1.2.1.1.1&nbsp;&nbsp;</span>Standard Deviation</a></span></li><li><span><a href=\"#Skewness\" data-toc-modified-id=\"Skewness-1.2.1.1.2\"><span class=\"toc-item-num\">1.2.1.1.2&nbsp;&nbsp;</span>Skewness</a></span></li><li><span><a href=\"#Kurtosis\" data-toc-modified-id=\"Kurtosis-1.2.1.1.3\"><span class=\"toc-item-num\">1.2.1.1.3&nbsp;&nbsp;</span>Kurtosis</a></span></li></ul></li></ul></li></ul></li></ul></li></ul></div>"
   ]
  },
  {
   "cell_type": "markdown",
   "id": "intermediate-facial",
   "metadata": {},
   "source": [
    "# Early Warning Signals\n",
    "\n",
    "Detecting critical transitions in timeseries\n",
    "\n",
    "Author: Alva Presbitero"
   ]
  },
  {
   "cell_type": "markdown",
   "id": "timely-uganda",
   "metadata": {},
   "source": [
    "## Import some libraries"
   ]
  },
  {
   "cell_type": "code",
   "execution_count": 2,
   "id": "serial-dubai",
   "metadata": {
    "ExecuteTime": {
     "end_time": "2021-07-09T04:40:13.073960Z",
     "start_time": "2021-07-09T04:40:10.427258Z"
    }
   },
   "outputs": [],
   "source": [
    "import pandas as pd\n",
    "import numpy as np\n",
    "import os\n",
    "import pickle\n",
    "import matplotlib.pyplot as plt\n",
    "\n",
    "from itertools import product"
   ]
  },
  {
   "cell_type": "code",
   "execution_count": 3,
   "id": "scheduled-dayton",
   "metadata": {
    "ExecuteTime": {
     "end_time": "2021-07-09T04:40:13.752586Z",
     "start_time": "2021-07-09T04:40:13.076704Z"
    }
   },
   "outputs": [
    {
     "name": "stdout",
     "output_type": "stream",
     "text": [
      "noise_type : 0 sigmoid constant\n",
      "noise_type : 1 sigmoid increasing\n",
      "noise_type : 2 gaussian constant\n",
      "noise_type : 3 gaussian increasing\n"
     ]
    }
   ],
   "source": [
    "noise_list = []\n",
    "noise_type_list = ['sigmoid', 'gaussian']\n",
    "sigma_type_list = ['constant', 'increasing']\n",
    "\n",
    "output = list(product(noise_type_list, sigma_type_list))\n",
    "\n",
    "for index, (noise_type, sigma_type) in enumerate(output):\n",
    "    print ('noise_type :', index, noise_type, sigma_type)\n",
    "    pickle_dir = f'result/pickle/noise/{noise_type}/{sigma_type}/'\n",
    "    pickle_file = noise_type + '_' + sigma_type + '.pickle'\n",
    "    with open(pickle_dir + pickle_file, 'rb') as f:\n",
    "        noise_list.append(pickle.load(f))\n",
    "#         print (noise_list[index])"
   ]
  },
  {
   "cell_type": "code",
   "execution_count": 4,
   "id": "polished-offering",
   "metadata": {
    "ExecuteTime": {
     "end_time": "2021-07-09T04:40:13.759803Z",
     "start_time": "2021-07-09T04:40:13.755686Z"
    }
   },
   "outputs": [],
   "source": [
    "noise_1, noise_2, noise_3, noise_4 = noise_list[0], noise_list[1], noise_list[2], noise_list[3]"
   ]
  },
  {
   "cell_type": "markdown",
   "id": "applicable-aluminum",
   "metadata": {},
   "source": [
    "## Early Warning Signals\n",
    "\n",
    "<img src='images/EWS' width=\"400\" height=\"400\">\n"
   ]
  },
  {
   "cell_type": "code",
   "execution_count": 5,
   "id": "corrected-retention",
   "metadata": {
    "ExecuteTime": {
     "end_time": "2021-07-09T04:40:13.779972Z",
     "start_time": "2021-07-09T04:40:13.762391Z"
    }
   },
   "outputs": [],
   "source": [
    "# used to detrend\n",
    "def difference(dataset, interval = 1):\n",
    "    diff = list()\n",
    "    for i in range(interval, len(dataset)):\n",
    "        value = dataset[i] - dataset[i - interval]\n",
    "        diff.append(value)\n",
    "    return np.array(diff)"
   ]
  },
  {
   "cell_type": "code",
   "execution_count": 6,
   "id": "announced-lotus",
   "metadata": {
    "ExecuteTime": {
     "end_time": "2021-07-09T04:40:14.223909Z",
     "start_time": "2021-07-09T04:40:13.782275Z"
    },
    "scrolled": true
   },
   "outputs": [
    {
     "data": {
      "text/plain": [
       "Index(['N_R', 'AP_Eblood', 'AP_Etissue', 'AP_Eliver', 'AP_Sblood',\n",
       "       'AP_Stissue', 'ITMblood', 'ITMtissue', 'M_R', 'M_A', 'CH', 'N_A',\n",
       "       'ND_A', 'ACH', 'ND_N', 'Time'],\n",
       "      dtype='object')"
      ]
     },
     "execution_count": 6,
     "metadata": {},
     "output_type": "execute_result"
    }
   ],
   "source": [
    "noise_1.keys()"
   ]
  },
  {
   "cell_type": "markdown",
   "id": "rough-horizon",
   "metadata": {},
   "source": [
    "### Metric-based\n",
    "#### Standard Deviation"
   ]
  },
  {
   "cell_type": "code",
   "execution_count": 21,
   "id": "1266873e",
   "metadata": {
    "ExecuteTime": {
     "end_time": "2021-07-09T04:53:22.509053Z",
     "start_time": "2021-07-09T04:53:22.504479Z"
    }
   },
   "outputs": [],
   "source": [
    "def do_ews_std(dataset):\n",
    "    return dataset.rolling(int(len(diff)/2), center=True).std()"
   ]
  },
  {
   "cell_type": "code",
   "execution_count": 22,
   "id": "regulation-capability",
   "metadata": {
    "ExecuteTime": {
     "end_time": "2021-07-09T04:53:25.267498Z",
     "start_time": "2021-07-09T04:53:24.693723Z"
    }
   },
   "outputs": [
    {
     "data": {
      "image/png": "[encoded data removed]",
      "text/plain": [
       "<Figure size 576x216 with 3 Axes>"
      ]
     },
     "metadata": {
      "needs_background": "light"
     },
     "output_type": "display_data"
    }
   ],
   "source": [
    "diff = pd.DataFrame(difference(noise_1.CH[0:600]))\n",
    "\n",
    "fig, axes = plt.subplots(nrows=1, ncols=3, figsize=(8, 3))\n",
    "fig.suptitle('Pro-inflammatory Cytokines')\n",
    "\n",
    "axes[0].plot(noise_1.CH[0:600])\n",
    "axes[0].set_title(\"Actual Data\")\n",
    "axes[0].set_xlabel(\"Timestep\")\n",
    "\n",
    "axes[1].plot(diff)\n",
    "axes[1].set_title(\"Residuals\")\n",
    "axes[1].set_xlabel(\"Timestep\")\n",
    "\n",
    "axes[2].plot(do_ews_std(diff))\n",
    "axes[2].set_title(\"STD EWS\")\n",
    "axes[2].set_xlabel(\"Timestep\")\n",
    "\n",
    "fig.tight_layout()"
   ]
  },
  {
   "cell_type": "markdown",
   "id": "purple-jewelry",
   "metadata": {},
   "source": [
    "##### Skewness\n"
   ]
  },
  {
   "cell_type": "code",
   "execution_count": null,
   "id": "civic-pierce",
   "metadata": {},
   "outputs": [],
   "source": []
  }
 ],
 "metadata": {
  "kernelspec": {
   "display_name": "Python [conda env:root] *",
   "language": "python",
   "name": "conda-root-py"
  },
  "language_info": {
   "codemirror_mode": {
    "name": "ipython",
    "version": 3
   },
   "file_extension": ".py",
   "mimetype": "text/x-python",
   "name": "python",
   "nbconvert_exporter": "python",
   "pygments_lexer": "ipython3",
   "version": "3.8.8"
  },
  "toc": {
   "base_numbering": 1,
   "nav_menu": {},
   "number_sections": true,
   "sideBar": true,
   "skip_h1_title": false,
   "title_cell": "Table of Contents",
   "title_sidebar": "Contents",
   "toc_cell": true,
   "toc_position": {},
   "toc_section_display": true,
   "toc_window_display": true
  }
 },
 "nbformat": 4,
 "nbformat_minor": 5
}
