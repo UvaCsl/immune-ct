{
 "cells": [
  {
   "cell_type": "markdown",
   "id": "0394dc81",
   "metadata": {
    "toc": true
   },
   "source": [
    "<h1>Table of Contents<span class=\"tocSkip\"></span></h1>\n",
    "<div class=\"toc\"><ul class=\"toc-item\"></ul></div>"
   ]
  },
  {
   "cell_type": "code",
   "execution_count": 6,
   "id": "27d01ae8",
   "metadata": {
    "ExecuteTime": {
     "end_time": "2021-07-19T09:14:40.755435Z",
     "start_time": "2021-07-19T09:14:40.750300Z"
    }
   },
   "outputs": [],
   "source": [
    "from utils import difference, roll_window, do_ews_std, do_ews_skew, do_ews_kurt, get_auto, do_ews_auto, get_ch, do_ews_ch, do_ar, do_ews_ar\n",
    "\n",
    "import Parameters as prms\n",
    "import APPIREDII_Cytokines_Parser as cyto\n",
    "import APPIREDII_Blood_Params_Parser as dp"
   ]
  },
  {
   "cell_type": "code",
   "execution_count": 9,
   "id": "ebd77650",
   "metadata": {
    "ExecuteTime": {
     "end_time": "2021-07-19T09:15:38.959768Z",
     "start_time": "2021-07-19T09:15:38.954671Z"
    }
   },
   "outputs": [],
   "source": [
    "cyto_fle = prms.cyto_fle\n",
    "sample_fle = prms.sample_fle\n",
    "trt_fle = prms.trt_fle\n",
    "german_hospital_file = prms.german_hospital_file\n",
    "dutch_hospital_file = prms.dutch_hospital_file\n",
    "treatment_file = prms.treatment_file"
   ]
  },
  {
   "cell_type": "code",
   "execution_count": 10,
   "id": "76671852",
   "metadata": {
    "ExecuteTime": {
     "end_time": "2021-07-19T09:15:39.294623Z",
     "start_time": "2021-07-19T09:15:39.289772Z"
    }
   },
   "outputs": [],
   "source": [
    "cases = [5]\n",
    "case_names = ['', '', '', 'No AP', 'Placebo', 'bIAP']\n",
    "patients = ['16', '51', '36', '26', '59']\n",
    "treatment = 'Placebo'"
   ]
  },
  {
   "cell_type": "code",
   "execution_count": 11,
   "id": "1a1b7af8",
   "metadata": {
    "ExecuteTime": {
     "end_time": "2021-07-19T09:15:41.117156Z",
     "start_time": "2021-07-19T09:15:39.420572Z"
    }
   },
   "outputs": [],
   "source": [
    "df_AP, df_AP_median = dp.get_data(german_hospital_file=german_hospital_file,\n",
    "                                   dutch_hospital_file=dutch_hospital_file,\n",
    "                                   treatment_file=treatment_file,\n",
    "                                   parameter_name='AlkFosf',\n",
    "                                   restrict=False,\n",
    "                                   treatment=treatment,\n",
    "                                   patients=patients,\n",
    "                                   do_binning=True)"
   ]
  },
  {
   "cell_type": "code",
   "execution_count": 13,
   "id": "e3a0526f",
   "metadata": {
    "ExecuteTime": {
     "end_time": "2021-07-19T09:15:57.237369Z",
     "start_time": "2021-07-19T09:15:57.223153Z"
    }
   },
   "outputs": [
    {
     "data": {
      "text/plain": [
       "0      488.0\n",
       "1       42.0\n",
       "2      308.0\n",
       "3      364.0\n",
       "4      350.0\n",
       "       ...  \n",
       "870     25.0\n",
       "872     34.0\n",
       "873     48.0\n",
       "875     51.0\n",
       "876     55.0\n",
       "Name: alkfosf, Length: 380, dtype: float64"
      ]
     },
     "execution_count": 13,
     "metadata": {},
     "output_type": "execute_result"
    }
   ],
   "source": [
    "df_AP.alkfosf"
   ]
  },
  {
   "cell_type": "code",
   "execution_count": 14,
   "id": "7719edce",
   "metadata": {
    "ExecuteTime": {
     "end_time": "2021-07-19T09:16:03.548719Z",
     "start_time": "2021-07-19T09:16:03.535085Z"
    }
   },
   "outputs": [
    {
     "data": {
      "text/plain": [
       "array([-4.460e+02,  2.660e+02,  5.600e+01, -1.400e+01, -2.960e+02,\n",
       "       -2.000e+00, -9.000e+00, -7.000e+00, -1.500e+01,  3.000e+00,\n",
       "       -1.000e+00,  1.000e+01,  1.000e+01,  1.100e+01,  4.930e+02,\n",
       "       -1.340e+02,  2.440e+02, -4.700e+01, -4.370e+02, -6.300e+01,\n",
       "       -3.900e+01, -1.100e+01, -2.700e+01,  2.000e+00,  1.300e+01,\n",
       "        4.000e+00, -1.000e+00,  7.800e+01,  1.300e+01, -7.500e+01,\n",
       "        2.300e+01, -5.000e+00,  4.000e+00,  1.800e+01, -4.900e+01,\n",
       "        2.223e+03, -2.055e+03, -2.300e+01, -1.250e+02, -3.600e+01,\n",
       "       -2.000e+00,  1.600e+01,  1.240e+02, -5.500e+01, -3.000e+00,\n",
       "       -8.400e+01,  0.000e+00,  8.000e+01, -1.500e+01, -5.800e+01,\n",
       "       -7.000e+00,  2.500e+01, -6.000e+00,  1.900e+01,  2.800e+01,\n",
       "        5.500e+01,  1.200e+01,  1.920e+02, -4.300e+01, -2.480e+02,\n",
       "       -2.000e+00, -2.000e+01, -5.000e+00, -1.900e+01,  9.000e+00,\n",
       "        1.000e+00,  0.000e+00,  9.000e+00,  6.300e+01,  4.720e+02,\n",
       "       -4.310e+02, -6.000e+00, -6.500e+01,  1.900e+02, -1.810e+02,\n",
       "       -4.500e+01,  6.020e+02, -4.810e+02,  2.700e+01, -3.900e+01,\n",
       "       -1.210e+02, -1.000e+00,  1.600e+01, -1.200e+01, -1.100e+01,\n",
       "       -1.000e+00,  1.000e+01,  5.000e+00,  7.700e+01,  2.340e+02,\n",
       "       -3.200e+01, -5.000e+01, -1.820e+02,  0.000e+00,  0.000e+00,\n",
       "        0.000e+00, -4.100e+01,  2.370e+02,  5.300e+01, -5.600e+01,\n",
       "       -2.190e+02,  0.000e+00,  7.000e+00,  2.100e+01, -2.000e+01,\n",
       "       -6.000e+00, -1.800e+01,  2.000e+00,  1.000e+01,  0.000e+00,\n",
       "       -1.000e+00,  0.000e+00, -1.000e+00,  3.380e+02, -2.520e+02,\n",
       "        5.400e+01, -8.300e+01, -7.400e+01,  2.000e+00,  2.100e+01,\n",
       "        1.030e+02, -6.000e+00, -1.110e+02,  0.000e+00, -8.000e+00,\n",
       "        1.500e+01,  0.000e+00, -7.000e+00,  1.400e+01, -3.000e+00,\n",
       "       -2.500e+01, -3.000e+00,  3.000e+00,  0.000e+00,  4.000e+00,\n",
       "        1.000e+01,  0.000e+00, -1.900e+01,  1.200e+01, -7.000e+00,\n",
       "        6.000e+00, -1.000e+00, -5.000e+00,  1.000e+01,  1.300e+01,\n",
       "       -2.600e+01,  0.000e+00,  2.000e+00, -1.000e+00,  2.000e+00,\n",
       "        5.900e+01,  0.000e+00, -2.400e+01, -3.100e+01,  2.000e+00,\n",
       "        0.000e+00,  1.000e+00,  5.000e+00,  1.000e+01, -4.000e+00,\n",
       "       -7.000e+00,  2.000e+00, -2.000e+00,  1.000e+01, -2.000e+00,\n",
       "       -5.000e+00,  2.240e+02,  6.900e+01, -7.600e+01, -1.720e+02,\n",
       "        0.000e+00, -1.500e+01, -9.000e+00,  4.760e+02, -1.390e+02,\n",
       "        9.900e+01, -4.300e+02, -9.000e+00,  0.000e+00,  6.000e+00,\n",
       "       -1.200e+01,  5.000e+00, -2.300e+01,  0.000e+00,  6.000e+00,\n",
       "        0.000e+00,  1.800e+01, -3.300e+01, -8.000e+00,  8.000e+00,\n",
       "        0.000e+00,  1.000e+00,  8.000e+00,  0.000e+00,  3.300e+01,\n",
       "        0.000e+00, -1.800e+01,  2.010e+02,  1.400e+01, -1.290e+02,\n",
       "       -1.040e+02,  0.000e+00,  2.500e+01, -1.000e+00, -3.500e+01,\n",
       "        0.000e+00,  0.000e+00,  2.000e+00,  1.000e+00,  1.600e+01,\n",
       "        0.000e+00,  4.300e+01, -4.500e+01,  1.630e+02,  5.500e+01,\n",
       "        0.000e+00, -1.750e+02, -4.800e+01,  2.000e+01, -1.000e+01,\n",
       "       -1.700e+01, -3.000e+00, -2.000e+00,  1.900e+01,  2.600e+01,\n",
       "       -6.000e+00, -2.600e+01, -2.000e+00,  2.000e+00,  1.000e+00,\n",
       "        0.000e+00,  1.000e+01,  2.300e+01,  1.500e+01,  3.380e+02,\n",
       "        0.000e+00, -2.440e+02, -1.370e+02, -9.000e+00,  0.000e+00,\n",
       "        2.700e+01,  3.800e+01,  1.000e+02, -3.200e+01,  1.600e+01,\n",
       "       -1.400e+02,  1.900e+01, -1.000e+00, -4.000e+00, -2.400e+01,\n",
       "       -4.000e+00,  4.000e+00,  3.000e+00,  1.000e+00,  4.000e+00,\n",
       "        2.500e+01, -3.600e+01,  0.000e+00,  0.000e+00,  2.000e+00,\n",
       "        2.400e+01,  2.000e+00, -4.000e+00,  1.990e+02,  9.400e+01,\n",
       "       -1.230e+02, -1.880e+02,  1.000e+00,  0.000e+00,  1.000e+00,\n",
       "        1.300e+01,  2.590e+02, -7.800e+01,  0.000e+00, -4.800e+01,\n",
       "       -1.370e+02,  2.000e+00,  0.000e+00,  9.000e+00,  1.560e+02,\n",
       "        3.000e+01, -1.050e+02, -1.100e+02,  8.000e+00,  0.000e+00,\n",
       "        0.000e+00,  5.300e+01,  7.100e+01,  5.000e+00, -3.700e+01,\n",
       "       -6.600e+01, -7.000e+00,  4.800e+01,  2.460e+02,  5.100e+01,\n",
       "       -2.400e+01, -2.230e+02, -9.800e+01,  2.000e+00,  1.600e+01,\n",
       "       -4.000e+01,  1.000e+00,  2.000e+01,  1.700e+01,  1.250e+02,\n",
       "       -1.170e+02, -4.000e+01, -2.000e+00, -1.000e+00,  3.000e+00,\n",
       "        9.000e+00,  4.900e+01,  2.730e+02,  7.000e+01, -3.850e+02,\n",
       "        1.000e+00, -1.900e+01,  1.800e+01,  7.000e+00, -1.300e+01,\n",
       "       -1.700e+01,  1.000e+01, -1.000e+00,  1.000e+00,  7.000e+00,\n",
       "        1.080e+02,  1.400e+01,  1.400e+01, -1.510e+02,  6.000e+00,\n",
       "        3.300e+01, -1.000e+01,  6.000e+00,  1.420e+02,  2.500e+01,\n",
       "       -1.780e+02, -1.000e+00,  1.700e+01,  4.360e+02, -3.530e+02,\n",
       "        9.400e+01, -3.400e+01, -1.690e+02,  5.000e+00,  2.300e+01,\n",
       "       -6.000e+00, -2.500e+01,  2.000e+00,  1.400e+01, -2.000e+00,\n",
       "       -1.000e+00, -7.000e+00, -2.600e+01,  0.000e+00, -1.000e+00,\n",
       "        7.000e+00,  0.000e+00,  4.000e+00,  0.000e+00,  3.600e+01,\n",
       "        3.100e+01, -5.100e+01, -2.300e+01,  1.000e+01,  5.000e+00,\n",
       "        2.400e+01,  1.850e+02,  0.000e+00, -3.500e+01, -6.000e+00,\n",
       "       -1.590e+02,  3.000e+00,  1.100e+01, -1.600e+01, -2.500e+01,\n",
       "        9.000e+00,  1.400e+01,  3.000e+00,  4.000e+00])"
      ]
     },
     "execution_count": 14,
     "metadata": {},
     "output_type": "execute_result"
    }
   ],
   "source": [
    "difference(list(df_AP.alkfosf))"
   ]
  },
  {
   "cell_type": "code",
   "execution_count": null,
   "id": "1efc2c8b",
   "metadata": {},
   "outputs": [],
   "source": []
  }
 ],
 "metadata": {
  "kernelspec": {
   "display_name": "Python [conda env:root] *",
   "language": "python",
   "name": "conda-root-py"
  },
  "language_info": {
   "codemirror_mode": {
    "name": "ipython",
    "version": 3
   },
   "file_extension": ".py",
   "mimetype": "text/x-python",
   "name": "python",
   "nbconvert_exporter": "python",
   "pygments_lexer": "ipython3",
   "version": "3.8.8"
  },
  "toc": {
   "base_numbering": 1,
   "nav_menu": {},
   "number_sections": true,
   "sideBar": true,
   "skip_h1_title": false,
   "title_cell": "Table of Contents",
   "title_sidebar": "Contents",
   "toc_cell": true,
   "toc_position": {},
   "toc_section_display": true,
   "toc_window_display": false
  }
 },
 "nbformat": 4,
 "nbformat_minor": 5
}
